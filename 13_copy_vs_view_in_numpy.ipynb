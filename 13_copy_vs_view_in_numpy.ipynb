{
 "cells": [
  {
   "cell_type": "code",
   "execution_count": 1,
   "id": "b75e80ff-eb31-47f2-8b46-a197bd50b044",
   "metadata": {},
   "outputs": [],
   "source": [
    "import numpy as np"
   ]
  },
  {
   "cell_type": "markdown",
   "id": "eee454af-a5e2-4e92-b937-0c3f3f0e5ff8",
   "metadata": {},
   "source": [
    "## copy vs view"
   ]
  },
  {
   "cell_type": "code",
   "execution_count": 2,
   "id": "70fc278d-ce17-43d0-a235-a913fcaf8346",
   "metadata": {},
   "outputs": [
    {
     "name": "stdout",
     "output_type": "stream",
     "text": [
      "[1 2 3 4 5]\n"
     ]
    }
   ],
   "source": [
    "arr = np.array([1,2,3,4,5])\n",
    "print(arr)"
   ]
  },
  {
   "cell_type": "markdown",
   "id": "5273ffe6-262d-46c2-9166-c08f3eecda24",
   "metadata": {},
   "source": [
    "### copy\n",
    "- Copy owns the data\n",
    "- the copy of an array is a new array\n",
    "- The changes made in copy data does not reflect in the original array"
   ]
  },
  {
   "cell_type": "code",
   "execution_count": 3,
   "id": "696fb71f-ee75-45ec-93c8-69c16fe1d239",
   "metadata": {},
   "outputs": [
    {
     "name": "stdout",
     "output_type": "stream",
     "text": [
      "[1 2 3 4 5]\n"
     ]
    }
   ],
   "source": [
    "co = arr.copy()\n",
    "print(co)"
   ]
  },
  {
   "cell_type": "markdown",
   "id": "fe71f271-a7aa-4a80-83ef-0807006e2685",
   "metadata": {},
   "source": [
    "### view\n",
    "- The view does not own the data\n",
    "- A view of the original array\n",
    "- Any changes made in the view will affect the original array, anbd any changes made in original arraay will affect the view"
   ]
  },
  {
   "cell_type": "code",
   "execution_count": 4,
   "id": "3b0d2101-5c91-406b-a2a4-6f207b210fdb",
   "metadata": {},
   "outputs": [
    {
     "name": "stdout",
     "output_type": "stream",
     "text": [
      "arr : [1 2 3 4 5]\n",
      "co : [1 2 3 4 5]\n",
      "vi : [1 2 3 4 5]\n"
     ]
    }
   ],
   "source": [
    "vi = arr.view()\n",
    "print(f\"arr : {arr}\")\n",
    "print(f\"co : {co}\")\n",
    "print(f\"vi : {vi}\")"
   ]
  },
  {
   "cell_type": "code",
   "execution_count": 10,
   "id": "c8732858-a6d9-4487-9c71-aab4a6a32cf9",
   "metadata": {},
   "outputs": [
    {
     "name": "stdout",
     "output_type": "stream",
     "text": [
      "arr before change : [ 1 11  3  4  5]\n",
      "co before change : [1 2 3 4 5]\n",
      "vi before change : [ 1 11  3  4  5]\n",
      "-----------------------------------------------\n",
      "arr after change : [ 1 11  3  4  5]\n",
      "co after change : [1 2 3 4 5]\n",
      "vi after change : [ 1 11  3  4  5]\n"
     ]
    }
   ],
   "source": [
    "print(f\"arr before change : {arr}\")\n",
    "print(f\"co before change : {co}\")\n",
    "print(f\"vi before change : {vi}\")\n",
    "\n",
    "arr[1] = 11\n",
    "print(\"-----------------------------------------------\")\n",
    "print(f\"arr after change : {arr}\")\n",
    "print(f\"co after change : {co}\")\n",
    "print(f\"vi after change : {vi}\")"
   ]
  }
 ],
 "metadata": {
  "kernelspec": {
   "display_name": "Python 3 (ipykernel)",
   "language": "python",
   "name": "python3"
  },
  "language_info": {
   "codemirror_mode": {
    "name": "ipython",
    "version": 3
   },
   "file_extension": ".py",
   "mimetype": "text/x-python",
   "name": "python",
   "nbconvert_exporter": "python",
   "pygments_lexer": "ipython3",
   "version": "3.12.0"
  }
 },
 "nbformat": 4,
 "nbformat_minor": 5
}
