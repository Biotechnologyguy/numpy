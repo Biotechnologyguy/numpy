{
 "cells": [
  {
   "cell_type": "code",
   "execution_count": 1,
   "id": "46d0b551-0b56-4c90-a923-40a149549338",
   "metadata": {},
   "outputs": [],
   "source": [
    "import numpy as np"
   ]
  },
  {
   "cell_type": "markdown",
   "id": "4279bac3-db1b-4243-bf18-a798d2cff1f0",
   "metadata": {
    "jp-MarkdownHeadingCollapsed": true
   },
   "source": [
    "## Indexing"
   ]
  },
  {
   "cell_type": "markdown",
   "id": "04cdd8a8-bc02-4552-be9c-e7d961e19586",
   "metadata": {},
   "source": [
    "### 1-D"
   ]
  },
  {
   "cell_type": "code",
   "execution_count": 2,
   "id": "416fe35d-73a4-4a16-b710-d02145043701",
   "metadata": {},
   "outputs": [],
   "source": [
    "my_arr = np.array([0,1,2,3,4,5,6,7,8,9,10])"
   ]
  },
  {
   "cell_type": "code",
   "execution_count": 12,
   "id": "4b3cff6d-3a47-4c1c-93eb-ca57a7399510",
   "metadata": {},
   "outputs": [
    {
     "name": "stdout",
     "output_type": "stream",
     "text": [
      "3\n"
     ]
    }
   ],
   "source": [
    "# Access elements by index in 1d\n",
    "\n",
    "print(my_arr[3])"
   ]
  },
  {
   "cell_type": "code",
   "execution_count": 20,
   "id": "d69e3984-e3a3-4b65-8255-117d27423da9",
   "metadata": {},
   "outputs": [
    {
     "name": "stdout",
     "output_type": "stream",
     "text": [
      "10\n"
     ]
    }
   ],
   "source": [
    "# Accessing last element\n",
    "\n",
    "\n",
    "print(my_arr[-1])"
   ]
  },
  {
   "cell_type": "markdown",
   "id": "50429086-c05b-4d5e-a69b-821323aa9ada",
   "metadata": {},
   "source": [
    "### 2-D"
   ]
  },
  {
   "cell_type": "code",
   "execution_count": 34,
   "id": "1f1043d7-7f18-49a2-acca-bbd8a3cabb4e",
   "metadata": {},
   "outputs": [
    {
     "name": "stdout",
     "output_type": "stream",
     "text": [
      "[[ 1  3]\n",
      " [ 2  5]\n",
      " [11  7]]\n"
     ]
    }
   ],
   "source": [
    "mul_d_arr = np.array([[1,3],[2,5],[11,7]])\n",
    "\n",
    "print(mul_d_arr)"
   ]
  },
  {
   "cell_type": "code",
   "execution_count": 46,
   "id": "224678a2-3a93-4108-99d5-6d782c17d894",
   "metadata": {},
   "outputs": [
    {
     "name": "stdout",
     "output_type": "stream",
     "text": [
      "5\n"
     ]
    }
   ],
   "source": [
    "# Accessing element at position row2 and column2\n",
    "\n",
    "print(mul_d_arr[1][1])"
   ]
  },
  {
   "cell_type": "code",
   "execution_count": 39,
   "id": "758b7c15-b65e-40e2-a7af-f2a050b1a2e0",
   "metadata": {},
   "outputs": [
    {
     "name": "stdout",
     "output_type": "stream",
     "text": [
      "7\n"
     ]
    }
   ],
   "source": [
    "# Accessing element at last position\n",
    "print(mul_d_arr[-1][-1])"
   ]
  },
  {
   "cell_type": "markdown",
   "id": "ad059b72-6ca8-4503-8286-b672eb8f979a",
   "metadata": {},
   "source": [
    "### 3-D"
   ]
  },
  {
   "cell_type": "code",
   "execution_count": 71,
   "id": "90443c62-06ce-49e2-bb2d-13dbe65874e1",
   "metadata": {},
   "outputs": [
    {
     "name": "stdout",
     "output_type": "stream",
     "text": [
      "[[[1 2]\n",
      "  [6 7]]]\n"
     ]
    }
   ],
   "source": [
    "arr_3d = np.array([[[1,2],[6,7]]])\n",
    "print(arr_3d)"
   ]
  },
  {
   "cell_type": "code",
   "execution_count": 73,
   "id": "10b77ddf-95fa-4d58-b114-fc5338671990",
   "metadata": {},
   "outputs": [
    {
     "name": "stdout",
     "output_type": "stream",
     "text": [
      "6\n"
     ]
    }
   ],
   "source": [
    "# Accessing element at second position\n",
    "print(arr_3d[0][1][0])"
   ]
  },
  {
   "cell_type": "markdown",
   "id": "5ec7404c-7104-4190-8dc8-c313249a2297",
   "metadata": {},
   "source": [
    "## Slicing"
   ]
  },
  {
   "cell_type": "code",
   "execution_count": 103,
   "id": "6b784739-89c6-48f2-a59b-ff57bbe14406",
   "metadata": {},
   "outputs": [
    {
     "name": "stdout",
     "output_type": "stream",
     "text": [
      "a         = [0 1 2 3 4 5 6 7 8 9]\n",
      "a[2:7:1] =  [2 3 4 5 6]\n",
      "a[2:7:2] =  [2 4 6]\n",
      "a[3:]    =  [3 4 5 6 7 8 9]\n",
      "a[:3]    =  [0 1 2]\n",
      "a[:]     =  [0 1 2 3 4 5 6 7 8 9]\n"
     ]
    }
   ],
   "source": [
    "#vector slicing operations\n",
    "a = np.arange(10)\n",
    "print(f\"a         = {a}\")\n",
    "\n",
    "#access 5 consecutive elements (start:stop:step)\n",
    "c = a[2:7:1];     print(\"a[2:7:1] = \", c)\n",
    "\n",
    "# access 3 elements separated by two \n",
    "c = a[2:7:2];     print(\"a[2:7:2] = \", c)\n",
    "\n",
    "# access all elements index 3 and above\n",
    "c = a[3:];        print(\"a[3:]    = \", c)\n",
    "\n",
    "# access all elements below index 3\n",
    "c = a[:3];        print(\"a[:3]    = \", c)\n",
    "\n",
    "# access all elements\n",
    "c = a[:];         print(\"a[:]     = \", c)"
   ]
  },
  {
   "cell_type": "code",
   "execution_count": 105,
   "id": "6c81b9f2-b927-463d-a4c3-9e25974b82a0",
   "metadata": {},
   "outputs": [
    {
     "name": "stdout",
     "output_type": "stream",
     "text": [
      "[[ 1  2  3  4  5]\n",
      " [ 9  8  7  6  5]\n",
      " [11 12 13 14 15]]\n"
     ]
    }
   ],
   "source": [
    "z = np.array([[1,2,3,4,5], [9,8,7,6,5],[11,12,13,14,15]])\n",
    "\n",
    "print(z)"
   ]
  },
  {
   "cell_type": "code",
   "execution_count": 118,
   "id": "981092a7-e740-4609-bdb1-cbac225fecb0",
   "metadata": {},
   "outputs": [
    {
     "name": "stdout",
     "output_type": "stream",
     "text": [
      "[8 7 6 5]\n"
     ]
    }
   ],
   "source": [
    "print(z[1, 1:])"
   ]
  },
  {
   "cell_type": "code",
   "execution_count": null,
   "id": "7b275a93-753a-4c8c-95cf-42402568fc80",
   "metadata": {},
   "outputs": [],
   "source": []
  },
  {
   "cell_type": "code",
   "execution_count": null,
   "id": "fd5cd363-80e8-4d77-8168-49cb0ae23999",
   "metadata": {},
   "outputs": [],
   "source": []
  }
 ],
 "metadata": {
  "kernelspec": {
   "display_name": "Python 3 (ipykernel)",
   "language": "python",
   "name": "python3"
  },
  "language_info": {
   "codemirror_mode": {
    "name": "ipython",
    "version": 3
   },
   "file_extension": ".py",
   "mimetype": "text/x-python",
   "name": "python",
   "nbconvert_exporter": "python",
   "pygments_lexer": "ipython3",
   "version": "3.12.0"
  }
 },
 "nbformat": 4,
 "nbformat_minor": 5
}
