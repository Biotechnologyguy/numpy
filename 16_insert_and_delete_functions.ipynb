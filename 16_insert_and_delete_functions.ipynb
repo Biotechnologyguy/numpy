{
 "cells": [
  {
   "cell_type": "code",
   "execution_count": null,
   "id": "b235ba21-92f9-4616-9117-fd22f60a399d",
   "metadata": {},
   "outputs": [],
   "source": [
    "import numpy as np"
   ]
  },
  {
   "cell_type": "code",
   "execution_count": 116,
   "id": "54b1e687-f6b1-4501-9da4-1350cd66dd57",
   "metadata": {},
   "outputs": [
    {
     "name": "stdout",
     "output_type": "stream",
     "text": [
      "[0 1 2 3 4 5 6 7 8 9]\n"
     ]
    }
   ],
   "source": [
    "x = np.arange(10)\n",
    "print(x)"
   ]
  },
  {
   "cell_type": "markdown",
   "id": "b50ba21c-71dd-434d-9751-33df6fe60645",
   "metadata": {},
   "source": [
    "## Insert"
   ]
  },
  {
   "cell_type": "code",
   "execution_count": 12,
   "id": "bfa4736a-b9f1-4d36-b281-c6762298216d",
   "metadata": {},
   "outputs": [
    {
     "data": {
      "text/plain": [
       "array([ 0, 14,  1,  2,  3,  4,  5,  6,  7,  8,  9])"
      ]
     },
     "execution_count": 12,
     "metadata": {},
     "output_type": "execute_result"
    }
   ],
   "source": [
    "# first argument is arr, second : index or indexes, third : number to be inserted\n",
    "\n",
    "np.insert(x, 1, 14)"
   ]
  },
  {
   "cell_type": "code",
   "execution_count": 13,
   "id": "4adc6e67-8489-4db7-bbfc-5695210489fb",
   "metadata": {},
   "outputs": [
    {
     "data": {
      "text/plain": [
       "array([ 0,  1, 10,  2,  3, 10,  4,  5,  6,  7,  8,  9])"
      ]
     },
     "execution_count": 13,
     "metadata": {},
     "output_type": "execute_result"
    }
   ],
   "source": [
    "# first argument is arr, second : index or indexes, third : number to be inserted\n",
    "\n",
    "np.insert(x, (2,4), 10)"
   ]
  },
  {
   "cell_type": "markdown",
   "id": "68cdff60-fe11-4e7b-8bf8-57896d35d61d",
   "metadata": {},
   "source": [
    "### 2-D"
   ]
  },
  {
   "cell_type": "code",
   "execution_count": 41,
   "id": "ac3faf5e-7a9a-4b55-bde6-98fdf2ebe615",
   "metadata": {},
   "outputs": [
    {
     "data": {
      "text/plain": [
       "array([ 1,  2, 99,  3,  4, 99,  5,  6,  7,  8])"
      ]
     },
     "execution_count": 41,
     "metadata": {},
     "output_type": "execute_result"
    }
   ],
   "source": [
    "y = np.array([[1,2,3,4],[5,6,7,8]])\n",
    "\n",
    "\n",
    "np.insert(y, (2,4), 99)"
   ]
  },
  {
   "cell_type": "markdown",
   "id": "a0a76823-68a0-4a52-946a-1cd6cca4201f",
   "metadata": {},
   "source": [
    "## Append"
   ]
  },
  {
   "cell_type": "code",
   "execution_count": 51,
   "id": "ffb50201-9066-4fd1-a64c-337df4aae44a",
   "metadata": {},
   "outputs": [
    {
     "data": {
      "text/plain": [
       "array([1, 2, 3, 4, 5, 6, 7, 8, 1, 2, 3, 4])"
      ]
     },
     "execution_count": 51,
     "metadata": {},
     "output_type": "execute_result"
    }
   ],
   "source": [
    "np.append(y, [1,2,3,4])"
   ]
  },
  {
   "cell_type": "markdown",
   "id": "4490ffcf-a5d6-454b-a52b-273a5fdc9b2b",
   "metadata": {},
   "source": [
    "### 2-D"
   ]
  },
  {
   "cell_type": "code",
   "execution_count": 107,
   "id": "7bcd6f43-b2fb-4384-a1cc-d518a2ed1c82",
   "metadata": {},
   "outputs": [
    {
     "name": "stdout",
     "output_type": "stream",
     "text": [
      "[[ 1  2  3  4]\n",
      " [ 5  6  7  8]\n",
      " [11 22 33 44]]\n"
     ]
    }
   ],
   "source": [
    "z = np.array([[1,2,3,4],[5,6,7,8]])\n",
    "\n",
    "\n",
    "l = np.append(z, [[11,22,33,44]], axis=0)\n",
    "print(l)"
   ]
  },
  {
   "cell_type": "markdown",
   "id": "5e11916f-2896-4a61-a215-06fb99810ab0",
   "metadata": {},
   "source": [
    "## delete:"
   ]
  },
  {
   "cell_type": "code",
   "execution_count": 129,
   "id": "bec105f9-5daf-4575-b26a-6b4823f6ce8f",
   "metadata": {},
   "outputs": [
    {
     "name": "stdout",
     "output_type": "stream",
     "text": [
      "[2 3 4 5 6 7 8 9]\n"
     ]
    }
   ],
   "source": [
    "delt = np.arange(2, 10)\n",
    "print(delt)"
   ]
  },
  {
   "cell_type": "code",
   "execution_count": 135,
   "id": "967726ed-6694-43f1-af9a-553873f41008",
   "metadata": {},
   "outputs": [
    {
     "data": {
      "text/plain": [
       "array([2, 3, 4, 5, 6, 8, 9])"
      ]
     },
     "execution_count": 135,
     "metadata": {},
     "output_type": "execute_result"
    }
   ],
   "source": [
    "np.delete(delt, 5)"
   ]
  },
  {
   "cell_type": "code",
   "execution_count": null,
   "id": "fc256b82-a684-4d46-aecc-9be5e6704c79",
   "metadata": {},
   "outputs": [],
   "source": []
  }
 ],
 "metadata": {
  "kernelspec": {
   "display_name": "Python 3 (ipykernel)",
   "language": "python",
   "name": "python3"
  },
  "language_info": {
   "codemirror_mode": {
    "name": "ipython",
    "version": 3
   },
   "file_extension": ".py",
   "mimetype": "text/x-python",
   "name": "python",
   "nbconvert_exporter": "python",
   "pygments_lexer": "ipython3",
   "version": "3.12.0"
  }
 },
 "nbformat": 4,
 "nbformat_minor": 5
}
