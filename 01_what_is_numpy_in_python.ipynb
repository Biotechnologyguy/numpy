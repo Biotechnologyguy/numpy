{
  "nbformat": 4,
  "nbformat_minor": 0,
  "metadata": {
    "colab": {
      "provenance": []
    },
    "kernelspec": {
      "name": "python3",
      "display_name": "Python 3"
    },
    "language_info": {
      "name": "python"
    }
  },
  "cells": [
    {
      "cell_type": "code",
      "execution_count": null,
      "metadata": {
        "id": "tiGGle79qhPj"
      },
      "outputs": [],
      "source": [
        "# This notebook will be used for numpy practice and tuturials"
      ]
    },
    {
      "cell_type": "markdown",
      "source": [
        "#### What is Numpy Array?\n",
        "An array is a grid of values and it contains information about the raw data, how to locate an element, and how to interpret an element"
      ],
      "metadata": {
        "id": "cJqYUpdEjwiw"
      }
    },
    {
      "cell_type": "markdown",
      "source": [
        "#### Numpy vs Python List:\n",
        "##### Advantages of using Numpy arrays over python lists:\n",
        "- consume less memory.\n",
        "- fast as comparted to python list.\n",
        "- Convenient to use."
      ],
      "metadata": {
        "id": "b5cznzBklE1k"
      }
    },
    {
      "cell_type": "markdown",
      "source": [
        "#### Installation and import numpy\n"
      ],
      "metadata": {
        "id": "cPpDA6flqlHS"
      }
    },
    {
      "cell_type": "code",
      "source": [
        "!pip install numpy"
      ],
      "metadata": {
        "colab": {
          "base_uri": "https://localhost:8080/"
        },
        "id": "SNn6PSK5m-fD",
        "outputId": "cd41f719-f69b-4c38-abef-2deb6d502654"
      },
      "execution_count": 1,
      "outputs": [
        {
          "output_type": "stream",
          "name": "stdout",
          "text": [
            "Requirement already satisfied: numpy in /usr/local/lib/python3.10/dist-packages (1.25.2)\n"
          ]
        }
      ]
    },
    {
      "cell_type": "code",
      "source": [
        "import numpy as np\n",
        "\n",
        "x = np.array([1,2,3,4,5])\n",
        "print(x)\n",
        "print(type(x)) #means numpy n dimentional array"
      ],
      "metadata": {
        "colab": {
          "base_uri": "https://localhost:8080/"
        },
        "id": "uFMOsdSpnJQd",
        "outputId": "c1bd6068-da63-4a0a-ec54-c009233d9e4d"
      },
      "execution_count": 9,
      "outputs": [
        {
          "output_type": "stream",
          "name": "stdout",
          "text": [
            "[1 2 3 4 5]\n",
            "<class 'numpy.ndarray'>\n"
          ]
        }
      ]
    },
    {
      "cell_type": "code",
      "source": [
        "y = [1,2,3,4]\n",
        "print(y)\n",
        "print(type(y))"
      ],
      "metadata": {
        "colab": {
          "base_uri": "https://localhost:8080/"
        },
        "id": "im6i-1GInbP8",
        "outputId": "b46c4880-96ca-424b-8dc7-ce01e475a686"
      },
      "execution_count": 8,
      "outputs": [
        {
          "output_type": "stream",
          "name": "stdout",
          "text": [
            "[1, 2, 3, 4]\n",
            "<class 'list'>\n"
          ]
        }
      ]
    },
    {
      "cell_type": "markdown",
      "source": [
        "#### Importance of Numpy in python\n",
        "- wide variety of mathematical operations on arrays\n",
        "- it supplies an enormous library of high level mathematical functions that operates on these arrays and matrices\n",
        "- Mathematical, logical, shape manipulation, sorting, selecting, I/O, discrete Fourier transforms, basic linear algebra, basic statistical operations, random simulation and much more"
      ],
      "metadata": {
        "id": "ez-YQLkfnv10"
      }
    }
  ]
}