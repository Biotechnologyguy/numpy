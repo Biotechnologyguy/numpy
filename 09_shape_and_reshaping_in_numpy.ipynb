{
 "cells": [
  {
   "cell_type": "code",
   "execution_count": 1,
   "id": "ecd27c20-6da1-4345-8a39-2b7a6f2a5d30",
   "metadata": {},
   "outputs": [],
   "source": [
    "import numpy as np"
   ]
  },
  {
   "cell_type": "markdown",
   "id": "54d3a3cf-f7b1-4ba9-8a39-66ee805badd9",
   "metadata": {},
   "source": [
    "## Shape"
   ]
  },
  {
   "cell_type": "code",
   "execution_count": 16,
   "id": "9f470f00-0f21-4216-ab41-79f5cfec8b25",
   "metadata": {},
   "outputs": [
    {
     "name": "stdout",
     "output_type": "stream",
     "text": [
      "(5,)\n"
     ]
    }
   ],
   "source": [
    "num_arr_1d = np.array([1,2,3,4,5])\n",
    "print(num_arr_1d.shape)"
   ]
  },
  {
   "cell_type": "code",
   "execution_count": 60,
   "id": "66316596-e106-4f30-9cea-af7d2bab0789",
   "metadata": {},
   "outputs": [
    {
     "name": "stdout",
     "output_type": "stream",
     "text": [
      "(2, 5)\n"
     ]
    }
   ],
   "source": [
    "num_arr_2d = np.array([[1,2,3,4,5], [5,6,7,8,9]])\n",
    "print(num_arr_2d.shape)"
   ]
  },
  {
   "cell_type": "code",
   "execution_count": 76,
   "id": "267ea156-7f54-46ee-9d26-004cbc5fe304",
   "metadata": {},
   "outputs": [
    {
     "name": "stdout",
     "output_type": "stream",
     "text": [
      "(1, 1, 2, 5)\n"
     ]
    }
   ],
   "source": [
    "num_arr_4d = np.array([[1,2,3,4,5], [5,6,7,8,9]], ndmin=4)\n",
    "print(num_arr_4d.shape)"
   ]
  },
  {
   "cell_type": "markdown",
   "id": "3d1e4c41-e681-4a53-8ee8-030fc4e2607e",
   "metadata": {},
   "source": [
    "## Reshape"
   ]
  },
  {
   "cell_type": "code",
   "execution_count": 102,
   "id": "964ef9fd-c2a0-4e29-b24f-66b4b2500a70",
   "metadata": {},
   "outputs": [
    {
     "name": "stdout",
     "output_type": "stream",
     "text": [
      "[[0 1]\n",
      " [2 3]\n",
      " [4 5]\n",
      " [6 7]\n",
      " [8 9]]\n",
      "\n",
      "2\n"
     ]
    }
   ],
   "source": [
    "my_arr = np.array([0,1,2,3,4,5,6,7,8,9])\n",
    "\n",
    "x = my_arr.reshape(5, 2)\n",
    "\n",
    "print(x)\n",
    "print()\n",
    "print(x.ndim)"
   ]
  },
  {
   "cell_type": "code",
   "execution_count": 115,
   "id": "61ce2da2-a7d3-429c-b016-2a6dc5650e75",
   "metadata": {},
   "outputs": [
    {
     "name": "stdout",
     "output_type": "stream",
     "text": [
      "[[[0]\n",
      "  [1]\n",
      "  [2]\n",
      "  [3]\n",
      "  [4]]\n",
      "\n",
      " [[5]\n",
      "  [6]\n",
      "  [7]\n",
      "  [8]\n",
      "  [9]]]\n",
      "\n",
      "3\n"
     ]
    }
   ],
   "source": [
    "y = my_arr.reshape(2, 5, 1)\n",
    "\n",
    "print(y)\n",
    "print()\n",
    "print(y.ndim)"
   ]
  },
  {
   "cell_type": "code",
   "execution_count": 141,
   "id": "70e8f925-c1cf-4ea5-b8e9-b58d7ac046a1",
   "metadata": {},
   "outputs": [
    {
     "name": "stdout",
     "output_type": "stream",
     "text": [
      "[0 1 2 3 4 5 6 7 8 9]\n",
      "\n",
      "1\n"
     ]
    }
   ],
   "source": [
    "one = x.reshape(-1)\n",
    "\n",
    "print(one)\n",
    "print()\n",
    "print(one.ndim)"
   ]
  },
  {
   "cell_type": "code",
   "execution_count": null,
   "id": "724fc5d5-7b47-4e42-9f30-f55b564d6395",
   "metadata": {},
   "outputs": [],
   "source": []
  },
  {
   "cell_type": "code",
   "execution_count": null,
   "id": "90b1a929-3bc1-468e-bc21-408b107c22ed",
   "metadata": {},
   "outputs": [],
   "source": []
  },
  {
   "cell_type": "code",
   "execution_count": null,
   "id": "c7771a7c-3aac-46e3-915d-4be580a85e80",
   "metadata": {},
   "outputs": [],
   "source": []
  },
  {
   "cell_type": "code",
   "execution_count": null,
   "id": "bd93687e-2f4a-4903-bff7-9eab71610565",
   "metadata": {},
   "outputs": [],
   "source": []
  }
 ],
 "metadata": {
  "kernelspec": {
   "display_name": "Python 3 (ipykernel)",
   "language": "python",
   "name": "python3"
  },
  "language_info": {
   "codemirror_mode": {
    "name": "ipython",
    "version": 3
   },
   "file_extension": ".py",
   "mimetype": "text/x-python",
   "name": "python",
   "nbconvert_exporter": "python",
   "pygments_lexer": "ipython3",
   "version": "3.12.0"
  }
 },
 "nbformat": 4,
 "nbformat_minor": 5
}
