{
 "cells": [
  {
   "cell_type": "code",
   "execution_count": 1,
   "id": "521951ce-8f6a-46e2-a8cd-98ddc2a770a7",
   "metadata": {},
   "outputs": [],
   "source": [
    "import numpy as np"
   ]
  },
  {
   "cell_type": "markdown",
   "id": "91a783f6-c5d1-40fc-8855-e03cbd04c684",
   "metadata": {},
   "source": [
    "## Search\n",
    "- Search an array for a certain value and return the index that get a match"
   ]
  },
  {
   "cell_type": "code",
   "execution_count": 19,
   "id": "a9760004-b8d1-4474-90e0-09ad4e7c83b6",
   "metadata": {},
   "outputs": [
    {
     "name": "stdout",
     "output_type": "stream",
     "text": [
      "[ 1  2  3  4  5  6  7  8  9 11 23 40 20  6  1]\n"
     ]
    }
   ],
   "source": [
    "num_arr = np.array([1,2,3,4,5,6,7,8,9,11,23,40,20,6,1])\n",
    "                  # 0,1,2,3,4,5,6,7,8,9,10,11,12,13,14\n",
    "print(num_arr)"
   ]
  },
  {
   "cell_type": "code",
   "execution_count": 34,
   "id": "879a2416-b53f-4364-a343-2bb57fb7db6d",
   "metadata": {},
   "outputs": [
    {
     "name": "stdout",
     "output_type": "stream",
     "text": [
      "(array([ 5, 13], dtype=int64),)\n",
      "(array([ 1,  3,  5,  7, 11, 12, 13], dtype=int64),)\n"
     ]
    }
   ],
   "source": [
    "# Lets search for 23 in an array\n",
    "\n",
    "x = np.where(num_arr == 6)\n",
    "\n",
    "print(x)\n",
    "\n",
    "print(np.where(num_arr % 2 == 0))"
   ]
  },
  {
   "cell_type": "markdown",
   "id": "21f4201c-7b94-4db2-a673-217383ae48d0",
   "metadata": {},
   "source": [
    "## Sort\n",
    "- Ordered sequence is any sequence that has an order corresponding to elements, like numeric or alphabetical, ascending or descending"
   ]
  },
  {
   "cell_type": "markdown",
   "id": "bc596623-deb3-4d55-9b5d-886cf82f8d3c",
   "metadata": {},
   "source": [
    "### 1-D Array"
   ]
  },
  {
   "cell_type": "code",
   "execution_count": 71,
   "id": "0039d9b1-fccd-4107-848b-14d6530bc631",
   "metadata": {},
   "outputs": [
    {
     "name": "stdout",
     "output_type": "stream",
     "text": [
      "Unsorted : [44  2  7  4  1  9 11 65 12 15 42  7]\n",
      "Sorted : [ 1  2  4  7  7  9 11 12 15 42 44 65]\n"
     ]
    }
   ],
   "source": [
    "num_unsorted = np.array([44,2,7,4,1,9,11,65,12,15,42,7])\n",
    "\n",
    "print(f\"Unsorted : {num_unsorted}\")\n",
    "\n",
    "num_sorted = np.sort(num_unsorted)\n",
    "\n",
    "print(f\"Sorted : {num_sorted}\")"
   ]
  },
  {
   "cell_type": "markdown",
   "id": "503e6e31-0d6e-4145-aade-184065c492c5",
   "metadata": {},
   "source": [
    "### 2-D Array"
   ]
  },
  {
   "cell_type": "code",
   "execution_count": 100,
   "id": "68c499b1-5efe-4ea3-be07-2ef1f59a42e4",
   "metadata": {},
   "outputs": [
    {
     "name": "stdout",
     "output_type": "stream",
     "text": [
      "Unsorted : [[44  2  7]\n",
      " [ 4  1  9]\n",
      " [11 65 12]\n",
      " [15 42  7]]\n",
      "\n",
      "Sorted : [[ 4  1  7]\n",
      " [11  2  7]\n",
      " [15 42  9]\n",
      " [44 65 12]]\n"
     ]
    }
   ],
   "source": [
    "num_unsorted = np.array([[44,2,7],[4,1,9],[11,65,12],[15,42,7]])\n",
    "\n",
    "print(f\"Unsorted : {num_unsorted}\")\n",
    "num_sorted = np.sort(num_unsorted, axis=0)\n",
    "print()\n",
    "\n",
    "\n",
    "print(f\"Sorted : {num_sorted}\")"
   ]
  },
  {
   "cell_type": "markdown",
   "id": "63154fe7-feab-47e8-9b10-d379f29d8ca3",
   "metadata": {},
   "source": [
    "## Search Sorted\n",
    "- Performs binary search in the array and returns the index where the specified value would be inserted to maintain the search order"
   ]
  },
  {
   "cell_type": "code",
   "execution_count": 69,
   "id": "7cd1eaaa-c74f-4b1d-8996-14ff7c2b6559",
   "metadata": {},
   "outputs": [
    {
     "name": "stdout",
     "output_type": "stream",
     "text": [
      "3\n",
      "[3 3 4]\n"
     ]
    }
   ],
   "source": [
    "x = np.array([1,2,3,6,7,8,9,10])\n",
    "\n",
    "x1 = np.searchsorted(x, 4, side=\"right\")\n",
    "\n",
    "print(x1)\n",
    "# print(x)\n",
    "\n",
    "x2 = np.searchsorted(x, [4,5,6], side=\"right\")\n",
    "\n",
    "print(x2)"
   ]
  },
  {
   "cell_type": "markdown",
   "id": "1d19f5bb-e041-4ba2-9305-d24507fd8029",
   "metadata": {},
   "source": [
    "## Filter\n",
    "- Getting some elements out of an existing array and creating a new array outn of them"
   ]
  },
  {
   "cell_type": "code",
   "execution_count": 101,
   "id": "9c6fed32-a24a-4b81-b708-815f2281976f",
   "metadata": {},
   "outputs": [
    {
     "name": "stdout",
     "output_type": "stream",
     "text": [
      "[ 1  2  3  4  5  6  7  8  9 11 23 40 20  6  1]\n"
     ]
    }
   ],
   "source": [
    "print(num_arr)"
   ]
  },
  {
   "cell_type": "code",
   "execution_count": 113,
   "id": "f50e83b3-cf51-4c5a-bcb7-e7a01568879c",
   "metadata": {},
   "outputs": [
    {
     "name": "stdout",
     "output_type": "stream",
     "text": [
      "[ 1  3  4  6  7  9 11 40 20  1]\n"
     ]
    }
   ],
   "source": [
    "filters = [True, False, True,True, False, True,True, False, True,True, False, True,True, False, True]\n",
    "\n",
    "new_arr = num_arr[filters]\n",
    "\n",
    "\n",
    "print(new_arr)"
   ]
  }
 ],
 "metadata": {
  "kernelspec": {
   "display_name": "Python 3 (ipykernel)",
   "language": "python",
   "name": "python3"
  },
  "language_info": {
   "codemirror_mode": {
    "name": "ipython",
    "version": 3
   },
   "file_extension": ".py",
   "mimetype": "text/x-python",
   "name": "python",
   "nbconvert_exporter": "python",
   "pygments_lexer": "ipython3",
   "version": "3.12.0"
  }
 },
 "nbformat": 4,
 "nbformat_minor": 5
}
