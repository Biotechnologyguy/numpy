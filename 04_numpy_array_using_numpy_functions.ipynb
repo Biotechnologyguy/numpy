{
  "nbformat": 4,
  "nbformat_minor": 0,
  "metadata": {
    "colab": {
      "provenance": []
    },
    "kernelspec": {
      "name": "python3",
      "display_name": "Python 3"
    },
    "language_info": {
      "name": "python"
    }
  },
  "cells": [
    {
      "cell_type": "markdown",
      "source": [
        "### Spacial Numpy Array :\n",
        "- Array filled with 0's\n",
        "- Array filled with 1's\n",
        "- Create an empty array\n",
        "- An array with range of elements\n",
        "- Array with diagonal elements filled with 1's\n",
        "- Create an array with values that are spaced linearly in specific interval\n"
      ],
      "metadata": {
        "id": "XZtXxfHozf50"
      }
    },
    {
      "cell_type": "code",
      "source": [
        "import numpy as np"
      ],
      "metadata": {
        "id": "Iou5UDI8z-Ml"
      },
      "execution_count": 1,
      "outputs": []
    },
    {
      "cell_type": "markdown",
      "source": [
        "## ZEROS"
      ],
      "metadata": {
        "id": "VpLL0Tgl0qs2"
      }
    },
    {
      "cell_type": "code",
      "source": [
        "# One dimensional array with zeroes\n",
        "arr_zeroes = np.zeros(10)\n",
        "arr_zeroes"
      ],
      "metadata": {
        "colab": {
          "base_uri": "https://localhost:8080/"
        },
        "id": "9kQ6rzkZ0D__",
        "outputId": "09e1ddbf-5523-4dba-c44d-60bbb8e12590"
      },
      "execution_count": 7,
      "outputs": [
        {
          "output_type": "execute_result",
          "data": {
            "text/plain": [
              "array([0., 0., 0., 0., 0., 0., 0., 0., 0., 0.])"
            ]
          },
          "metadata": {},
          "execution_count": 7
        }
      ]
    },
    {
      "cell_type": "code",
      "source": [
        "# n dimensional array with zeros\n",
        "\n",
        "arr_zero_2d = np.zeros((3, 4))\n",
        "arr_zero_2d"
      ],
      "metadata": {
        "colab": {
          "base_uri": "https://localhost:8080/"
        },
        "id": "QrttAJ7y0uwu",
        "outputId": "32a0031c-3eac-4702-8e0b-10e145747b47"
      },
      "execution_count": 10,
      "outputs": [
        {
          "output_type": "execute_result",
          "data": {
            "text/plain": [
              "array([[0., 0., 0., 0.],\n",
              "       [0., 0., 0., 0.],\n",
              "       [0., 0., 0., 0.]])"
            ]
          },
          "metadata": {},
          "execution_count": 10
        }
      ]
    },
    {
      "cell_type": "markdown",
      "source": [
        "## ONES"
      ],
      "metadata": {
        "id": "iNUUC77m1SQD"
      }
    },
    {
      "cell_type": "code",
      "source": [
        "# 1 dimensional array filled with 1\n",
        "\n",
        "arr_one = np.ones(4)\n",
        "arr_one"
      ],
      "metadata": {
        "colab": {
          "base_uri": "https://localhost:8080/"
        },
        "id": "VoT3Oj_71X_E",
        "outputId": "fe8c6ef4-d307-48fa-aec7-c1a16777bc08"
      },
      "execution_count": 11,
      "outputs": [
        {
          "output_type": "execute_result",
          "data": {
            "text/plain": [
              "array([1., 1., 1., 1.])"
            ]
          },
          "metadata": {},
          "execution_count": 11
        }
      ]
    },
    {
      "cell_type": "code",
      "source": [
        "# n dimensional array filled with 1\n",
        "\n",
        "arr_ones_nd = np.ones((5, 5))\n",
        "arr_ones_nd"
      ],
      "metadata": {
        "colab": {
          "base_uri": "https://localhost:8080/"
        },
        "id": "Zx7dKsbb1lZ0",
        "outputId": "0ca7d890-9fcd-4bc0-e49d-cefb14fa1304"
      },
      "execution_count": 12,
      "outputs": [
        {
          "output_type": "execute_result",
          "data": {
            "text/plain": [
              "array([[1., 1., 1., 1., 1.],\n",
              "       [1., 1., 1., 1., 1.],\n",
              "       [1., 1., 1., 1., 1.],\n",
              "       [1., 1., 1., 1., 1.],\n",
              "       [1., 1., 1., 1., 1.]])"
            ]
          },
          "metadata": {},
          "execution_count": 12
        }
      ]
    },
    {
      "cell_type": "markdown",
      "source": [
        "## EMPTY"
      ],
      "metadata": {
        "id": "NNKMRuJy14vr"
      }
    },
    {
      "cell_type": "code",
      "source": [
        "# create 1 dimensional empty array\n",
        "\n",
        "arr_empty = np.empty(4)\n",
        "arr_empty"
      ],
      "metadata": {
        "colab": {
          "base_uri": "https://localhost:8080/"
        },
        "id": "CApgJ4e617yF",
        "outputId": "be4ab073-8804-44ba-b6e4-a2bf3b6b4190"
      },
      "execution_count": 13,
      "outputs": [
        {
          "output_type": "execute_result",
          "data": {
            "text/plain": [
              "array([1., 1., 1., 1.])"
            ]
          },
          "metadata": {},
          "execution_count": 13
        }
      ]
    },
    {
      "cell_type": "code",
      "source": [
        "# create n dimensional empty array\n",
        "\n",
        "arr_empty_nd = np.empty((4, 3))\n",
        "arr_empty_nd"
      ],
      "metadata": {
        "colab": {
          "base_uri": "https://localhost:8080/"
        },
        "id": "V_hG5fDh2NyS",
        "outputId": "b2d977b4-3d37-4717-a28e-8329b4172d35"
      },
      "execution_count": 14,
      "outputs": [
        {
          "output_type": "execute_result",
          "data": {
            "text/plain": [
              "array([[0., 0., 0.],\n",
              "       [0., 0., 0.],\n",
              "       [0., 0., 0.],\n",
              "       [0., 0., 0.]])"
            ]
          },
          "metadata": {},
          "execution_count": 14
        }
      ]
    },
    {
      "cell_type": "markdown",
      "source": [
        "## RANGE"
      ],
      "metadata": {
        "id": "poDXWo8M2WH-"
      }
    },
    {
      "cell_type": "code",
      "source": [
        "# 1 dimensional array with range\n",
        "\n",
        "arr_range = np.arange(4)\n",
        "arr_range"
      ],
      "metadata": {
        "colab": {
          "base_uri": "https://localhost:8080/"
        },
        "id": "VkR756hQ2X2_",
        "outputId": "8013818d-7c15-4f6d-ef07-322215ded4d3"
      },
      "execution_count": 15,
      "outputs": [
        {
          "output_type": "execute_result",
          "data": {
            "text/plain": [
              "array([0, 1, 2, 3])"
            ]
          },
          "metadata": {},
          "execution_count": 15
        }
      ]
    },
    {
      "cell_type": "markdown",
      "source": [
        "## DIAGONAL\n"
      ],
      "metadata": {
        "id": "yz8fdo2j3EHn"
      }
    },
    {
      "cell_type": "code",
      "source": [
        "# n x n array\n",
        "\n",
        "arr_dia = np.eye(3)\n",
        "arr_dia"
      ],
      "metadata": {
        "colab": {
          "base_uri": "https://localhost:8080/"
        },
        "id": "bGz8XZrL3Gwq",
        "outputId": "b01ec360-79fb-4077-b963-6aa82dfe0d08"
      },
      "execution_count": 21,
      "outputs": [
        {
          "output_type": "execute_result",
          "data": {
            "text/plain": [
              "array([[1., 0., 0.],\n",
              "       [0., 1., 0.],\n",
              "       [0., 0., 1.]])"
            ]
          },
          "metadata": {},
          "execution_count": 21
        }
      ]
    },
    {
      "cell_type": "code",
      "source": [
        "# n x m array\n",
        "\n",
        "arr_dia2 = np.eye(3, 5)\n",
        "arr_dia2"
      ],
      "metadata": {
        "colab": {
          "base_uri": "https://localhost:8080/"
        },
        "id": "rMLRG9Zp3oc-",
        "outputId": "397a93fa-8cff-4b6d-ceb6-0f26b7221918"
      },
      "execution_count": 23,
      "outputs": [
        {
          "output_type": "execute_result",
          "data": {
            "text/plain": [
              "array([[1., 0., 0., 0., 0.],\n",
              "       [0., 1., 0., 0., 0.],\n",
              "       [0., 0., 1., 0., 0.]])"
            ]
          },
          "metadata": {},
          "execution_count": 23
        }
      ]
    },
    {
      "cell_type": "markdown",
      "source": [
        "## LINSPACE"
      ],
      "metadata": {
        "id": "Mr7rri1b37pH"
      }
    },
    {
      "cell_type": "code",
      "source": [
        "arr_lin = np.linspace(0, 20, num=5)\n",
        "print(arr_lin)"
      ],
      "metadata": {
        "colab": {
          "base_uri": "https://localhost:8080/"
        },
        "id": "bw6Pyjsl3_2b",
        "outputId": "f6ab7011-e753-4002-d521-b4e369a20da1"
      },
      "execution_count": 32,
      "outputs": [
        {
          "output_type": "stream",
          "name": "stdout",
          "text": [
            "[ 0.  5. 10. 15. 20.]\n"
          ]
        }
      ]
    }
  ]
}