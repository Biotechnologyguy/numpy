{
 "cells": [
  {
   "cell_type": "code",
   "execution_count": 1,
   "id": "07012a48-0f99-421e-9f91-7b0ebf8f3fe5",
   "metadata": {},
   "outputs": [],
   "source": [
    "import numpy as np"
   ]
  },
  {
   "cell_type": "markdown",
   "id": "3a3fe2b8-1c8f-4df7-83b0-59059fe746c8",
   "metadata": {},
   "source": [
    "## Iteration"
   ]
  },
  {
   "cell_type": "markdown",
   "id": "37905d73-f74f-4c99-93ca-10dfca9f98a6",
   "metadata": {},
   "source": [
    "### 1-D"
   ]
  },
  {
   "cell_type": "code",
   "execution_count": 19,
   "id": "7fa948d5-bde4-44d2-ab05-fb1a8028718d",
   "metadata": {},
   "outputs": [
    {
     "name": "stdout",
     "output_type": "stream",
     "text": [
      "[ 1  2  3  4  5  6  7  8  9 10]\n"
     ]
    }
   ],
   "source": [
    "# For one dimensional array\n",
    "\n",
    "num_arr = np.array([1,2,3,4,5,6,7,8,9,10])\n",
    "\n",
    "print(num_arr)"
   ]
  },
  {
   "cell_type": "code",
   "execution_count": 10,
   "id": "e2da9015-ff42-4e13-9621-7092bdb0049f",
   "metadata": {},
   "outputs": [
    {
     "name": "stdout",
     "output_type": "stream",
     "text": [
      "1\n",
      "2\n",
      "3\n",
      "4\n",
      "5\n",
      "6\n",
      "7\n",
      "8\n",
      "9\n",
      "10\n"
     ]
    }
   ],
   "source": [
    "for i in num_arr:\n",
    "    print(i)"
   ]
  },
  {
   "cell_type": "markdown",
   "id": "37c7e7d1-b848-49a5-b27b-326e5802e7bd",
   "metadata": {},
   "source": [
    "### 2-D"
   ]
  },
  {
   "cell_type": "code",
   "execution_count": 16,
   "id": "d5c3af55-ae5f-447a-ba93-18fe8df4f665",
   "metadata": {},
   "outputs": [
    {
     "name": "stdout",
     "output_type": "stream",
     "text": [
      "[[1 2 3 4]\n",
      " [5 6 7 8]]\n"
     ]
    }
   ],
   "source": [
    "# For 2 dimensional array\n",
    "\n",
    "num_arr_2d = np.array([[1,2,3,4],[5,6,7,8]])\n",
    "\n",
    "print(num_arr_2d)"
   ]
  },
  {
   "cell_type": "code",
   "execution_count": 25,
   "id": "c0d12eb0-46a1-45e5-927f-e35d6ec7d24d",
   "metadata": {},
   "outputs": [
    {
     "name": "stdout",
     "output_type": "stream",
     "text": [
      "1\n",
      "2\n",
      "3\n",
      "4\n",
      "5\n",
      "6\n",
      "7\n",
      "8\n"
     ]
    }
   ],
   "source": [
    "# NOT IDEAL\n",
    "\n",
    "for i in num_arr_2d:\n",
    "    for j in i:\n",
    "        print(j)"
   ]
  },
  {
   "cell_type": "markdown",
   "id": "f0febf27-c54a-4ea7-be8e-9930e89737b9",
   "metadata": {},
   "source": [
    "### 3-D"
   ]
  },
  {
   "cell_type": "code",
   "execution_count": 17,
   "id": "a5c6e10a-96f1-4fed-9f3e-4e05b70adf2f",
   "metadata": {},
   "outputs": [
    {
     "name": "stdout",
     "output_type": "stream",
     "text": [
      "[[[1 2 3 4]\n",
      "  [5 6 7 8]]]\n"
     ]
    }
   ],
   "source": [
    "# for 3 dimensional array\n",
    "\n",
    "num_arr_3d = np.array([[[1,2,3,4],[5,6,7,8]]])\n",
    "\n",
    "print(num_arr_3d)"
   ]
  },
  {
   "cell_type": "code",
   "execution_count": 24,
   "id": "28741022-b75c-41e0-88ce-2402a3bfee74",
   "metadata": {},
   "outputs": [
    {
     "name": "stdout",
     "output_type": "stream",
     "text": [
      "1\n",
      "2\n",
      "3\n",
      "4\n",
      "5\n",
      "6\n",
      "7\n",
      "8\n"
     ]
    }
   ],
   "source": [
    "# NOT IDEAL\n",
    "\n",
    "for i in num_arr_3d:\n",
    "    for j in i:\n",
    "        for k in j:\n",
    "            print(k)"
   ]
  },
  {
   "cell_type": "markdown",
   "id": "1166eb8b-81f6-4ede-a40c-c26736689844",
   "metadata": {},
   "source": [
    "### np.nditer()"
   ]
  },
  {
   "cell_type": "code",
   "execution_count": 23,
   "id": "0abf1052-2e33-4c4a-950e-f8671a953145",
   "metadata": {},
   "outputs": [
    {
     "name": "stdout",
     "output_type": "stream",
     "text": [
      "1\n",
      "2\n",
      "3\n",
      "4\n",
      "5\n",
      "6\n",
      "7\n",
      "8\n"
     ]
    }
   ],
   "source": [
    "for i in np.nditer(num_arr_3d):\n",
    "    print(i)"
   ]
  },
  {
   "cell_type": "markdown",
   "id": "de5b767d-50f2-4a76-be77-1a3fe0bb5b20",
   "metadata": {},
   "source": [
    "### nd.ndenumerate()"
   ]
  },
  {
   "cell_type": "code",
   "execution_count": 28,
   "id": "60958878-67e1-437e-aada-a02b1578bc2d",
   "metadata": {},
   "outputs": [
    {
     "name": "stdout",
     "output_type": "stream",
     "text": [
      "(0, 0, 0) 1\n",
      "(0, 0, 1) 2\n",
      "(0, 0, 2) 3\n",
      "(0, 0, 3) 4\n",
      "(0, 1, 0) 5\n",
      "(0, 1, 1) 6\n",
      "(0, 1, 2) 7\n",
      "(0, 1, 3) 8\n"
     ]
    }
   ],
   "source": [
    "\n",
    "\n",
    "for i, data in np.ndenumerate(num_arr_3d):\n",
    "    print(i, data)"
   ]
  },
  {
   "cell_type": "code",
   "execution_count": null,
   "id": "20b2dfce-e9b1-4367-87f4-12b015666324",
   "metadata": {},
   "outputs": [],
   "source": []
  },
  {
   "cell_type": "code",
   "execution_count": null,
   "id": "cac2e46b-0305-4294-b210-f8305a3122d6",
   "metadata": {},
   "outputs": [],
   "source": []
  }
 ],
 "metadata": {
  "kernelspec": {
   "display_name": "Python 3 (ipykernel)",
   "language": "python",
   "name": "python3"
  },
  "language_info": {
   "codemirror_mode": {
    "name": "ipython",
    "version": 3
   },
   "file_extension": ".py",
   "mimetype": "text/x-python",
   "name": "python",
   "nbconvert_exporter": "python",
   "pygments_lexer": "ipython3",
   "version": "3.12.0"
  }
 },
 "nbformat": 4,
 "nbformat_minor": 5
}
