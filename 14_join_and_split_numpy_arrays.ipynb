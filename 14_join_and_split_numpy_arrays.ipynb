{
 "cells": [
  {
   "cell_type": "code",
   "execution_count": 1,
   "id": "a5f1bbb2-3d55-433d-8701-11fc87c3a957",
   "metadata": {},
   "outputs": [],
   "source": [
    "import numpy as np"
   ]
  },
  {
   "cell_type": "markdown",
   "id": "a65046f7-ca58-43a7-8251-547afa1cae7d",
   "metadata": {},
   "source": [
    "## Join Array:\n",
    "- joining means putting contents of two or more arrays in single array"
   ]
  },
  {
   "cell_type": "markdown",
   "id": "73bc4cbf-2037-4b7a-94b5-5652fb13cb52",
   "metadata": {},
   "source": [
    "### 1-D"
   ]
  },
  {
   "cell_type": "code",
   "execution_count": 53,
   "id": "e4d4f475-0b7f-410e-b5ee-554e9ca1d862",
   "metadata": {},
   "outputs": [
    {
     "name": "stdout",
     "output_type": "stream",
     "text": [
      "[1 2 3 4 5]\n",
      "[ 7  8  9 10 11]\n"
     ]
    }
   ],
   "source": [
    "arr1 = np.array([1,2,3,4,5])\n",
    "arr2 = np.array([7,8,9,10,11])\n",
    "print(arr1)\n",
    "print(arr2)"
   ]
  },
  {
   "cell_type": "code",
   "execution_count": 26,
   "id": "4a537eae-acd4-4c0c-befd-63e6bb3edb22",
   "metadata": {},
   "outputs": [
    {
     "name": "stdout",
     "output_type": "stream",
     "text": [
      "[ 1  2  3  4  5  7  8  9 10]\n"
     ]
    }
   ],
   "source": [
    "arr3 = np.concatenate((arr1, arr2))\n",
    "print(arr3)"
   ]
  },
  {
   "cell_type": "markdown",
   "id": "02856cdc-65f2-4109-bcdf-d71c5ad641f1",
   "metadata": {},
   "source": [
    "### 2-D"
   ]
  },
  {
   "cell_type": "code",
   "execution_count": 38,
   "id": "2645c19e-d7ea-4a1e-87bb-192f9a8c90eb",
   "metadata": {},
   "outputs": [
    {
     "name": "stdout",
     "output_type": "stream",
     "text": [
      "[[1 2]\n",
      " [3 4]]\n",
      "\n",
      "[[ 7  8]\n",
      " [ 9 10]]\n"
     ]
    }
   ],
   "source": [
    "arr1_2d = np.array([[1,2],[3,4]])\n",
    "arr2_2d = np.array([[7,8],[9,10]])\n",
    "print(arr1_2d)\n",
    "print()\n",
    "print(arr2_2d)"
   ]
  },
  {
   "cell_type": "code",
   "execution_count": 50,
   "id": "afa98142-f98c-4545-9628-be02a2474740",
   "metadata": {},
   "outputs": [
    {
     "name": "stdout",
     "output_type": "stream",
     "text": [
      "[[ 1  2]\n",
      " [ 3  4]\n",
      " [ 7  8]\n",
      " [ 9 10]]\n"
     ]
    }
   ],
   "source": [
    "# By default it concatenate 2 arrays along axis 0\n",
    "\n",
    "arr3_2d = np.concatenate((arr1_2d, arr2_2d))\n",
    "print(arr3_2d)"
   ]
  },
  {
   "cell_type": "code",
   "execution_count": 49,
   "id": "c5133468-6bac-4e32-adb5-7bc8021e0003",
   "metadata": {},
   "outputs": [
    {
     "name": "stdout",
     "output_type": "stream",
     "text": [
      "[[ 1  2  7  8]\n",
      " [ 3  4  9 10]]\n"
     ]
    }
   ],
   "source": [
    "# Concatenating 2 dimensional arrays along axis=1\n",
    "\n",
    "arr3_2d = np.concatenate((arr1_2d, arr2_2d), axis=1)\n",
    "print(arr3_2d)"
   ]
  },
  {
   "cell_type": "markdown",
   "id": "c1453369-82c7-4032-8705-8471a792470d",
   "metadata": {},
   "source": [
    "### stack()"
   ]
  },
  {
   "cell_type": "code",
   "execution_count": 51,
   "id": "67f409bf-ddf5-4dc0-b6eb-8f3825a43bd9",
   "metadata": {},
   "outputs": [
    {
     "name": "stdout",
     "output_type": "stream",
     "text": [
      "[1 2 3 4 5]\n",
      "[ 7  8  9 10]\n"
     ]
    }
   ],
   "source": [
    "arr1 = np.array([1,2,3,4,5])\n",
    "arr2 = np.array([7,8,9,10])\n",
    "print(arr1)\n",
    "print(arr2)"
   ]
  },
  {
   "cell_type": "code",
   "execution_count": 56,
   "id": "3479c26c-b479-4715-a62f-92d83904f114",
   "metadata": {},
   "outputs": [
    {
     "name": "stdout",
     "output_type": "stream",
     "text": [
      "[[ 1  7]\n",
      " [ 2  8]\n",
      " [ 3  9]\n",
      " [ 4 10]\n",
      " [ 5 11]]\n"
     ]
    }
   ],
   "source": [
    "# We will get a 2-D array here from two 1-D arrays\n",
    "\n",
    "arr3 = np.stack((arr1, arr2), axis=1)\n",
    "\n",
    "print(arr3)"
   ]
  },
  {
   "cell_type": "code",
   "execution_count": 64,
   "id": "ef967a79-13e3-495f-b0c1-2b5d2e0e716f",
   "metadata": {},
   "outputs": [
    {
     "name": "stdout",
     "output_type": "stream",
     "text": [
      "[ 1  2  3  4  5  7  8  9 10 11]\n",
      "\n",
      "[[ 1  2  3  4  5]\n",
      " [ 7  8  9 10 11]]\n",
      "\n",
      "[[[ 1  7]\n",
      "  [ 2  8]\n",
      "  [ 3  9]\n",
      "  [ 4 10]\n",
      "  [ 5 11]]]\n"
     ]
    }
   ],
   "source": [
    "# We dont need to pass axis in below case\n",
    "\n",
    "# Row\n",
    "arr4 = np.hstack((arr1,arr2))\n",
    "print(arr4)\n",
    "print()\n",
    "\n",
    "#Column\n",
    "arr4 = np.vstack((arr1,arr2))\n",
    "print(arr4)\n",
    "print()\n",
    "\n",
    "# Height\n",
    "arr4 = np.dstack((arr1,arr2))\n",
    "\n",
    "print(arr4)"
   ]
  },
  {
   "cell_type": "markdown",
   "id": "cb2d894b-a8d4-40d5-a30c-e5b35138b234",
   "metadata": {},
   "source": [
    "## Split Array:\n",
    "- Splitting breaks one array into multiple"
   ]
  },
  {
   "cell_type": "markdown",
   "id": "38bdbb2b-599c-49ac-ab06-c787b6235743",
   "metadata": {},
   "source": [
    "### 1-D"
   ]
  },
  {
   "cell_type": "code",
   "execution_count": 65,
   "id": "fe6cd6bc-251f-4f96-bb57-80364837beca",
   "metadata": {},
   "outputs": [
    {
     "name": "stdout",
     "output_type": "stream",
     "text": [
      "[1 2 3 4 5 6]\n"
     ]
    }
   ],
   "source": [
    "a = np.array([1,2,3,4,5,6])\n",
    "\n",
    "print(a)"
   ]
  },
  {
   "cell_type": "code",
   "execution_count": 74,
   "id": "8044f0b5-6d6e-454d-8d9d-f972d9731613",
   "metadata": {},
   "outputs": [
    {
     "name": "stdout",
     "output_type": "stream",
     "text": [
      "[1 2]\n",
      "\n",
      "[3 4]\n",
      "\n",
      "[5 6]\n",
      "\n"
     ]
    }
   ],
   "source": [
    "# Split function takes array and no. of splits as argument\n",
    "\n",
    "b = np.split(a, 3)\n",
    "\n",
    "for arr in b:\n",
    "    print(arr)\n",
    "    print()"
   ]
  },
  {
   "cell_type": "markdown",
   "id": "90f59f0d-5717-4663-af3e-6c296e1e1528",
   "metadata": {},
   "source": [
    "### 2-D"
   ]
  },
  {
   "cell_type": "code",
   "execution_count": 80,
   "id": "b6ab7c59-cd29-4ef9-85ae-0d0a930a1996",
   "metadata": {},
   "outputs": [
    {
     "name": "stdout",
     "output_type": "stream",
     "text": [
      "[[1 2]\n",
      " [3 4]\n",
      " [5 6]]\n"
     ]
    }
   ],
   "source": [
    "# Create 2d array\n",
    "\n",
    "x = np.array([[1,2],[3,4],[5,6]])\n",
    "\n",
    "print(a)"
   ]
  },
  {
   "cell_type": "code",
   "execution_count": 81,
   "id": "402907fe-f1fd-4cb4-9cef-5bd13911296d",
   "metadata": {},
   "outputs": [
    {
     "name": "stdout",
     "output_type": "stream",
     "text": [
      "[[1 2]]\n",
      "\n",
      "[[3 4]]\n",
      "\n",
      "[[5 6]]\n",
      "\n"
     ]
    }
   ],
   "source": [
    "y = np.split(x, 3)\n",
    "\n",
    "for arr in y:\n",
    "    print(arr)\n",
    "    print()"
   ]
  },
  {
   "cell_type": "markdown",
   "id": "45b24c7e-04dc-44ff-8c50-ef41c288f851",
   "metadata": {},
   "source": [
    "Split along the axes"
   ]
  },
  {
   "cell_type": "code",
   "execution_count": 83,
   "id": "eef2305b-d7a0-4e40-a4e5-7c7b4979be4e",
   "metadata": {},
   "outputs": [
    {
     "name": "stdout",
     "output_type": "stream",
     "text": [
      "[[1 2]]\n",
      "\n",
      "[[3 4]]\n",
      "\n",
      "[[5 6]]\n",
      "\n"
     ]
    }
   ],
   "source": [
    "z = np.split(x, 2, axis=1)\n",
    "\n",
    "for arr in b:\n",
    "    print(arr)\n",
    "    print()"
   ]
  }
 ],
 "metadata": {
  "kernelspec": {
   "display_name": "Python 3 (ipykernel)",
   "language": "python",
   "name": "python3"
  },
  "language_info": {
   "codemirror_mode": {
    "name": "ipython",
    "version": 3
   },
   "file_extension": ".py",
   "mimetype": "text/x-python",
   "name": "python",
   "nbconvert_exporter": "python",
   "pygments_lexer": "ipython3",
   "version": "3.12.0"
  }
 },
 "nbformat": 4,
 "nbformat_minor": 5
}
