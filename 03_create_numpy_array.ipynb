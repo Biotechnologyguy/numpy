{
  "nbformat": 4,
  "nbformat_minor": 0,
  "metadata": {
    "colab": {
      "provenance": []
    },
    "kernelspec": {
      "name": "python3",
      "display_name": "Python 3"
    },
    "language_info": {
      "name": "python"
    }
  },
  "cells": [
    {
      "cell_type": "markdown",
      "source": [
        "## Creating numpy array\n",
        "use function np.array()"
      ],
      "metadata": {
        "id": "PPb7FWrVFodv"
      }
    },
    {
      "cell_type": "code",
      "source": [
        "import numpy as np\n",
        "a = np.array([1,2,3,4,5,6,7,8,9])\n",
        "\n",
        "print(a)"
      ],
      "metadata": {
        "colab": {
          "base_uri": "https://localhost:8080/"
        },
        "id": "5lmwBZHKFwbe",
        "outputId": "989d0bd9-5b24-47d5-cae3-68aa32b98d59"
      },
      "execution_count": 4,
      "outputs": [
        {
          "output_type": "stream",
          "name": "stdout",
          "text": [
            "[1 2 3 4 5 6 7 8 9]\n"
          ]
        }
      ]
    },
    {
      "cell_type": "code",
      "source": [
        "l = []\n",
        "\n",
        "for i in range(1,5):\n",
        "  l.append(int(input(\"Enter : \")))\n",
        "\n",
        "print(np.array(l))"
      ],
      "metadata": {
        "colab": {
          "base_uri": "https://localhost:8080/"
        },
        "id": "BIrr5I9nVPJM",
        "outputId": "b6d1fd83-5400-4241-c5b9-284308805f91"
      },
      "execution_count": 6,
      "outputs": [
        {
          "output_type": "stream",
          "name": "stdout",
          "text": [
            "Enter : 1\n",
            "Enter : 2\n",
            "Enter : 3\n",
            "Enter : 4\n",
            "[1 2 3 4]\n"
          ]
        }
      ]
    },
    {
      "cell_type": "markdown",
      "source": [
        "### Dimensions in Arrays\n",
        "Count the starting no of brackets\n",
        "- 1-D Arrays [1 3 4]\n",
        "- 2-D Arrays [[1 2 3 4 5],[1,2,3,55,1]]\n",
        "- 3-D Arrays\n",
        "- Higher dimensional Arrays"
      ],
      "metadata": {
        "id": "Bmqp8RKLWCoy"
      }
    },
    {
      "cell_type": "code",
      "source": [
        "# to checl dimension of array\n",
        "\n",
        "print(a.ndim)"
      ],
      "metadata": {
        "colab": {
          "base_uri": "https://localhost:8080/"
        },
        "id": "0O-7DawrVUTI",
        "outputId": "a9cbc926-05e4-41c1-f84b-b9032ff3ad2f"
      },
      "execution_count": 7,
      "outputs": [
        {
          "output_type": "stream",
          "name": "stdout",
          "text": [
            "1\n"
          ]
        }
      ]
    },
    {
      "cell_type": "code",
      "source": [
        "# Creating 2 dimensional array\n",
        "\n",
        "arr2 = np.array([[1,2,3,4,5],[5,6,7,8,9]])\n",
        "print(arr2)\n",
        "print(arr2.ndim)"
      ],
      "metadata": {
        "colab": {
          "base_uri": "https://localhost:8080/"
        },
        "id": "PqgBs2sqW1Uo",
        "outputId": "74a6e509-1281-4787-9598-76aec7721090"
      },
      "execution_count": 9,
      "outputs": [
        {
          "output_type": "stream",
          "name": "stdout",
          "text": [
            "[[1 2 3 4 5]\n",
            " [5 6 7 8 9]]\n",
            "2\n"
          ]
        }
      ]
    },
    {
      "cell_type": "code",
      "source": [
        "# Creating 3 dimensional array\n",
        "\n",
        "arr3 = np.array([[[1,2,3,4],[3,4,5,6],[2,7,1,9]]])\n",
        "print(arr3)\n",
        "print(arr3.ndim)"
      ],
      "metadata": {
        "colab": {
          "base_uri": "https://localhost:8080/"
        },
        "id": "nHWuKzvHXZ5p",
        "outputId": "6963a7f8-4ac2-443e-8f70-95304b1ca6f2"
      },
      "execution_count": 12,
      "outputs": [
        {
          "output_type": "stream",
          "name": "stdout",
          "text": [
            "[[[1 2 3 4]\n",
            "  [3 4 5 6]\n",
            "  [2 7 1 9]]]\n",
            "3\n"
          ]
        }
      ]
    },
    {
      "cell_type": "code",
      "source": [
        "# creating n dimensional array with shorthand\n",
        "\n",
        "arrn = np.array([1,2,3,4,5,6], ndmin=10)\n",
        "print(arrn)\n",
        "print(arrn.ndim)"
      ],
      "metadata": {
        "colab": {
          "base_uri": "https://localhost:8080/"
        },
        "id": "mZ5O1hANYBir",
        "outputId": "b8f799ce-99cf-41bf-ce36-b42f3d417200"
      },
      "execution_count": 13,
      "outputs": [
        {
          "output_type": "stream",
          "name": "stdout",
          "text": [
            "[[[[[[[[[[1 2 3 4 5 6]]]]]]]]]]\n",
            "10\n"
          ]
        }
      ]
    }
  ]
}