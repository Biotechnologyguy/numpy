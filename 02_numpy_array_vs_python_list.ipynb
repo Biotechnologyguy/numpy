{
  "nbformat": 4,
  "nbformat_minor": 0,
  "metadata": {
    "colab": {
      "provenance": []
    },
    "kernelspec": {
      "name": "python3",
      "display_name": "Python 3"
    },
    "language_info": {
      "name": "python"
    }
  },
  "cells": [
    {
      "cell_type": "markdown",
      "source": [
        "#### Difference between Numpy array and List in python:\n",
        "- data types storage\n",
        "  - List can store multiple data types\n",
        "  - numpy array can store single data type in same list\n",
        "- importing module\n",
        "  - list is inbuilt\n",
        "- Numerical operations\n",
        "  - Faster with Numpy array\n",
        "  - multidimentional list(Matrixes)\n",
        "- Modification capabilities\n",
        "- Consume less memory\n",
        "- Fast as compared to python list\n",
        "- convenient to use"
      ],
      "metadata": {
        "id": "YA4pS3Lz-4rv"
      }
    },
    {
      "cell_type": "markdown",
      "source": [],
      "metadata": {
        "id": "scaw-OLXBzZA"
      }
    }
  ]
}