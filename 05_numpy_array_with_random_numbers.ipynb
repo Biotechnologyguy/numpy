{
 "cells": [
  {
   "cell_type": "markdown",
   "id": "07628c7a-6806-44bf-abc0-c47071aa91d5",
   "metadata": {},
   "source": [
    "## Numpy array with random numbers"
   ]
  },
  {
   "cell_type": "code",
   "execution_count": null,
   "id": "595e5ae4-e174-4c28-bcdf-8ffa31d18da8",
   "metadata": {},
   "outputs": [],
   "source": [
    "import numpy as np"
   ]
  },
  {
   "cell_type": "markdown",
   "id": "a6fef46b-94ae-4b12-b44c-809faa731541",
   "metadata": {},
   "source": [
    "### Rand()\n",
    "\n",
    "Creates numbers between zero and one"
   ]
  },
  {
   "cell_type": "code",
   "execution_count": 27,
   "id": "9bf50651-6161-465b-97ab-f38347ad0e16",
   "metadata": {},
   "outputs": [
    {
     "name": "stdout",
     "output_type": "stream",
     "text": [
      "[0.18569874 0.7284205  0.68047376 0.59114091 0.82467114 0.79769098\n",
      " 0.91612497 0.30958695 0.39109837 0.39789834 0.46929673]\n"
     ]
    }
   ],
   "source": [
    "# creating 1 dimensional array with random numbers between 0 and 1\n",
    "my_var = np.random.rand(11)\n",
    "print(my_var)"
   ]
  },
  {
   "cell_type": "code",
   "execution_count": 65,
   "id": "8c294522-5824-4e21-ade9-db2a537ece28",
   "metadata": {},
   "outputs": [
    {
     "name": "stdout",
     "output_type": "stream",
     "text": [
      "[[0.77770524 0.47266819 0.02012489 0.17660995 0.82132582]\n",
      " [0.44124314 0.25248708 0.08486086 0.08627951 0.88674428]]\n"
     ]
    }
   ],
   "source": [
    "# creating n dimensional array with random numbers between 0 and 1\n",
    "my_var1 = np.random.rand(2, 5)\n",
    "print(my_var1)"
   ]
  },
  {
   "cell_type": "markdown",
   "id": "4e7d5789-9bd4-4743-9b9d-331f14839285",
   "metadata": {},
   "source": [
    "### Randn()\n",
    "\n",
    "generate random values close to zero, may reyturn positive or negative values"
   ]
  },
  {
   "cell_type": "code",
   "execution_count": 87,
   "id": "58cfe8e9-f792-4e6c-97e5-48da99ba19b7",
   "metadata": {},
   "outputs": [
    {
     "name": "stdout",
     "output_type": "stream",
     "text": [
      "[-3.86803078e-01 -7.81983308e-01  9.52051043e-01 -1.98084339e-01\n",
      " -1.24334483e+00  1.64552751e-03  2.82003493e-01 -1.41236771e-01\n",
      "  2.61849443e+00  6.16145763e-01 -4.49268874e-01]\n"
     ]
    }
   ],
   "source": [
    "# creating 1 dimensional array \n",
    "arr_randn = np.random.randn(11)\n",
    "print(arr_randn)"
   ]
  },
  {
   "cell_type": "code",
   "execution_count": 95,
   "id": "d985dbe4-df10-4ec7-b437-3b073c92be3d",
   "metadata": {},
   "outputs": [
    {
     "name": "stdout",
     "output_type": "stream",
     "text": [
      "[[ 0.79272873 -0.18079496 -1.12289648]\n",
      " [-1.99822169 -0.88186816  0.73863017]\n",
      " [-0.73410929 -0.06037926  1.38283295]\n",
      " [ 1.76326763 -0.4536907   0.45524156]]\n"
     ]
    }
   ],
   "source": [
    "# creating n dimensional array \n",
    "arr_randn_nd = np.random.randn(4, 3)\n",
    "print(arr_randn_nd)"
   ]
  },
  {
   "cell_type": "markdown",
   "id": "25822949-9683-4cb3-be63-52cd5787678c",
   "metadata": {},
   "source": [
    "### Ranf()\n",
    "\n",
    "- The function for doing random sampling in numpy\n",
    "- It returns an array of specified shape and fills it with random floats in the half open interval"
   ]
  },
  {
   "cell_type": "code",
   "execution_count": 94,
   "id": "fe086c6d-3b23-44e6-9181-a2d50489c62b",
   "metadata": {},
   "outputs": [
    {
     "name": "stdout",
     "output_type": "stream",
     "text": [
      "[0.70032796 0.09466194 0.33163526 0.71964565 0.18109051 0.71574577\n",
      " 0.4974598  0.20629026 0.70405382 0.70220336 0.70303064]\n"
     ]
    }
   ],
   "source": [
    "# creating 1 dimensional array \n",
    "arr_randf = np.random.ranf(11)\n",
    "print(arr_randf)"
   ]
  },
  {
   "cell_type": "markdown",
   "id": "691d60d1-c474-4611-8462-3fff1369ac59",
   "metadata": {},
   "source": [
    "### Randint()\n",
    "\n",
    "generate random values between a given range"
   ]
  },
  {
   "cell_type": "code",
   "execution_count": 165,
   "id": "de4e136d-6b5b-4613-8406-b01e57f34d69",
   "metadata": {},
   "outputs": [
    {
     "name": "stdout",
     "output_type": "stream",
     "text": [
      "[ 7  9  2 10 10]\n"
     ]
    }
   ],
   "source": [
    "# (min, max, total_numbers)\n",
    "\n",
    "arr_randint = np.random.randint(1, 11, 5)\n",
    "print(arr_randint)"
   ]
  }
 ],
 "metadata": {
  "kernelspec": {
   "display_name": "Python 3 (ipykernel)",
   "language": "python",
   "name": "python3"
  },
  "language_info": {
   "codemirror_mode": {
    "name": "ipython",
    "version": 3
   },
   "file_extension": ".py",
   "mimetype": "text/x-python",
   "name": "python",
   "nbconvert_exporter": "python",
   "pygments_lexer": "ipython3",
   "version": "3.12.0"
  }
 },
 "nbformat": 4,
 "nbformat_minor": 5
}
